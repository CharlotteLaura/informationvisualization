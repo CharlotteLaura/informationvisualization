{
 "cells": [
  {
   "cell_type": "code",
   "execution_count": 12,
   "metadata": {
    "ExecuteTime": {
     "end_time": "2020-02-21T13:25:23.844075Z",
     "start_time": "2020-02-21T13:25:23.841095Z"
    }
   },
   "outputs": [],
   "source": [
    "import json\n",
    "from collections import defaultdict"
   ]
  },
  {
   "cell_type": "code",
   "execution_count": 63,
   "metadata": {
    "ExecuteTime": {
     "end_time": "2020-02-21T14:55:43.973863Z",
     "start_time": "2020-02-21T14:55:43.960866Z"
    }
   },
   "outputs": [],
   "source": [
    "with open('data/sub_tags.json', 'r') as f:\n",
    "    sub_tags = json.load(f)"
   ]
  },
  {
   "cell_type": "code",
   "execution_count": 27,
   "metadata": {
    "ExecuteTime": {
     "end_time": "2020-02-21T13:50:13.563936Z",
     "start_time": "2020-02-21T13:50:13.554942Z"
    }
   },
   "outputs": [],
   "source": [
    "tree = {}\n",
    "for k,v in sub_tags.items():\n",
    "    add_label(tree, v)"
   ]
  },
  {
   "cell_type": "code",
   "execution_count": 25,
   "metadata": {
    "ExecuteTime": {
     "end_time": "2020-02-21T13:49:41.312788Z",
     "start_time": "2020-02-21T13:49:41.308791Z"
    }
   },
   "outputs": [],
   "source": [
    "def add_label(d, l):\n",
    "    \n",
    "    val = l.pop(0)\n",
    "    if val not in d:\n",
    "        d[val] = {}\n",
    "    if len(l):\n",
    "        add_label(d[val], l)"
   ]
  },
  {
   "cell_type": "code",
   "execution_count": 30,
   "metadata": {
    "ExecuteTime": {
     "end_time": "2020-02-21T13:52:02.307305Z",
     "start_time": "2020-02-21T13:52:02.297310Z"
    }
   },
   "outputs": [],
   "source": [
    "with open('tag_tree.json', 'w') as f:\n",
    "    json.dump(tree, f)"
   ]
  },
  {
   "cell_type": "code",
   "execution_count": 64,
   "metadata": {
    "ExecuteTime": {
     "end_time": "2020-02-21T14:55:45.623476Z",
     "start_time": "2020-02-21T14:55:45.616481Z"
    }
   },
   "outputs": [],
   "source": [
    "reverse_tags = {}\n",
    "for k,v in sub_tags.items():\n",
    "    for i in v:\n",
    "        reverse_tags[i] = set()"
   ]
  },
  {
   "cell_type": "code",
   "execution_count": 67,
   "metadata": {
    "ExecuteTime": {
     "end_time": "2020-02-21T14:55:59.909690Z",
     "start_time": "2020-02-21T14:55:59.903693Z"
    }
   },
   "outputs": [],
   "source": [
    "for k,v in sub_tags.items():\n",
    "    for i in v:\n",
    "        reverse_tags[i].add(k)"
   ]
  },
  {
   "cell_type": "code",
   "execution_count": 73,
   "metadata": {
    "ExecuteTime": {
     "end_time": "2020-02-21T15:00:17.235580Z",
     "start_time": "2020-02-21T15:00:17.214573Z"
    }
   },
   "outputs": [],
   "source": [
    "with open('data/tag_filter.json', 'w') as f:\n",
    "    dump_dict = {}\n",
    "    for k,v in reverse_tags.items():\n",
    "        dump_dict[k] = list(v)\n",
    "    json.dump(dump_dict, f)"
   ]
  },
  {
   "cell_type": "code",
   "execution_count": 74,
   "metadata": {
    "ExecuteTime": {
     "end_time": "2020-02-21T15:01:42.761632Z",
     "start_time": "2020-02-21T15:01:42.752637Z"
    }
   },
   "outputs": [],
   "source": []
  },
  {
   "cell_type": "code",
   "execution_count": null,
   "metadata": {},
   "outputs": [],
   "source": []
  }
 ],
 "metadata": {
  "kernelspec": {
   "display_name": "Python 3",
   "language": "python",
   "name": "python3"
  },
  "language_info": {
   "codemirror_mode": {
    "name": "ipython",
    "version": 3
   },
   "file_extension": ".py",
   "mimetype": "text/x-python",
   "name": "python",
   "nbconvert_exporter": "python",
   "pygments_lexer": "ipython3",
   "version": "3.7.3"
  },
  "toc": {
   "base_numbering": 1,
   "nav_menu": {},
   "number_sections": true,
   "sideBar": true,
   "skip_h1_title": false,
   "title_cell": "Table of Contents",
   "title_sidebar": "Contents",
   "toc_cell": false,
   "toc_position": {},
   "toc_section_display": true,
   "toc_window_display": false
  }
 },
 "nbformat": 4,
 "nbformat_minor": 2
}
