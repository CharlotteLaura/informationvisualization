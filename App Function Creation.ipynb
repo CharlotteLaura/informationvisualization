{
 "cells": [
  {
   "cell_type": "code",
   "execution_count": 88,
   "metadata": {
    "ExecuteTime": {
     "end_time": "2020-02-28T14:17:46.434647Z",
     "start_time": "2020-02-28T14:17:46.424666Z"
    }
   },
   "outputs": [],
   "source": [
    "import numpy as np\n",
    "import pandas as pd\n",
    "import matplotlib.pyplot as plt\n",
    "import seaborn as sns\n",
    "import plotly.express as px\n",
    "import json\n",
    "import pickle\n",
    "\n",
    "%matplotlib inline"
   ]
  },
  {
   "cell_type": "code",
   "execution_count": 89,
   "metadata": {
    "ExecuteTime": {
     "end_time": "2020-02-28T14:17:57.908676Z",
     "start_time": "2020-02-28T14:17:47.240614Z"
    }
   },
   "outputs": [],
   "source": [
    "root_path = ''\n",
    "df_title = pd.read_csv(root_path + 'data/soc-redditHyperlinks-title.tsv', sep='\\t')\n",
    "df_body = pd.read_csv(root_path + 'data/soc-redditHyperlinks-body.tsv', sep='\\t')\n",
    "df_points = pd.read_csv(\"data/projections/perp_10_2500subs.csv\")\n",
    "df_all = pd.concat([df_title, df_body])\n",
    "\n",
    "all_subs = set()\n",
    "all_subs.update(df_points['sub'])\n",
    "\n",
    "df_all = df_all[df_all.SOURCE_SUBREDDIT.map(lambda x: x in all_subs) | df_all.TARGET_SUBREDDIT.map(lambda x: x in all_subs)]\n",
    "df_all.TIMESTAMP = pd.to_datetime(df_all.TIMESTAMP)\n",
    "df_all.sort_values(by='TIMESTAMP', inplace=True)\n",
    "df_all.reset_index(inplace=True)\n",
    "\n",
    "df_source = df_all.set_index('SOURCE_SUBREDDIT')\n",
    "df_target = df_all.set_index('TARGET_SUBREDDIT')"
   ]
  },
  {
   "cell_type": "code",
   "execution_count": 3,
   "metadata": {
    "ExecuteTime": {
     "end_time": "2020-02-28T13:33:35.834668Z",
     "start_time": "2020-02-28T13:33:35.829670Z"
    }
   },
   "outputs": [],
   "source": [
    "def filter_dates(df, start, end):\n",
    "    return \n",
    "\n",
    "def filter_subs():\n",
    "    return"
   ]
  },
  {
   "cell_type": "markdown",
   "metadata": {},
   "source": [
    "Linked To:\n",
    "Linked From:\n",
    "\n",
    "Net Received Sentiment\n",
    "Net Sent Sentiment\n",
    "\n",
    "Daily To Net Sentiment:\n",
    "Daily Out Net Sentiment:"
   ]
  },
  {
   "cell_type": "code",
   "execution_count": null,
   "metadata": {
    "ExecuteTime": {
     "end_time": "2020-02-27T13:51:43.933092Z",
     "start_time": "2020-02-27T13:51:43.898090Z"
    }
   },
   "outputs": [],
   "source": [
    "def link_counts(df):\n",
    "    mask = df.LINK_SENTIMENT == 1\n",
    "    positive = df[mask]\n",
    "    negative = df[~mask]\n",
    "    \n",
    "    return [positive.index.value_counts(), negative.index.value_counts()]"
   ]
  },
  {
   "cell_type": "code",
   "execution_count": null,
   "metadata": {
    "ExecuteTime": {
     "end_time": "2020-02-27T13:50:51.623166Z",
     "start_time": "2020-02-27T13:50:51.614170Z"
    }
   },
   "outputs": [],
   "source": [
    "# # def get_link_counts()\n",
    "# def process_frame(df_points):\n",
    "#     pcounts, ncounts = link_counts(df_target)\n",
    "#     df_points['in_pos'] = df_points['sub'].map(lambda x: pcounts.get(x, 0))\n",
    "#     df_points['in_neg'] = df_points['sub'].map(lambda x: ncounts.get(x, 0))\n",
    "\n",
    "#     pcounts, ncounts = link_counts(df_source)\n",
    "#     df_points['out_pos'] = df_points['sub'].map(lambda x: pcounts.get(x, 0))\n",
    "#     df_points['out_neg'] = df_points['sub'].map(lambda x: ncounts.get(x, 0))\n",
    "#     return df_points"
   ]
  },
  {
   "cell_type": "code",
   "execution_count": null,
   "metadata": {
    "ExecuteTime": {
     "end_time": "2020-02-27T13:53:02.510645Z",
     "start_time": "2020-02-27T13:53:02.504648Z"
    }
   },
   "outputs": [],
   "source": [
    "# def get_link_counts()\n",
    "def process_frame(df_points):\n",
    "    pcounts, ncounts = link_counts(df_target)\n",
    "    df_points['in_pos'] = df_points['sub'].map(lambda x: pcounts.get(x, 0))\n",
    "    df_points['in_neg'] = df_points['sub'].map(lambda x: ncounts.get(x, 0))\n",
    "    df_points['in_links'] = df_points['in_neg'] + df_points['in_pos']\n",
    "\n",
    "    pcounts, ncounts = link_counts(df_source)\n",
    "    df_points['out_pos'] = df_points['sub'].map(lambda x: pcounts.get(x, 0))\n",
    "    df_points['out_neg'] = df_points['sub'].map(lambda x: ncounts.get(x, 0))\n",
    "    df_points['out_links'] = df_points['out_pos'] + df_points['out_neg']\n",
    "    return df_points"
   ]
  },
  {
   "cell_type": "code",
   "execution_count": null,
   "metadata": {
    "ExecuteTime": {
     "start_time": "2020-02-27T13:53:58.085Z"
    }
   },
   "outputs": [],
   "source": [
    "import multiprocessing as mp\n",
    "cores = mp.cpu_count()\n",
    "pool = mp.Pool(cores)\n",
    "splits = np.array_split(df_points, cores)\n",
    "\n",
    "f = pool.map(process_frame,splits)\n",
    "pool.close()\n",
    "pool.join()"
   ]
  },
  {
   "cell_type": "code",
   "execution_count": 119,
   "metadata": {
    "ExecuteTime": {
     "end_time": "2020-02-28T17:57:57.281503Z",
     "start_time": "2020-02-28T17:57:54.100945Z"
    }
   },
   "outputs": [],
   "source": [
    "bins = pd.cut(df_all.TIMESTAMP, 50)\n",
    "df_all['bin'] = bins\n",
    "pos_rows = df_all[df_all.LINK_SENTIMENT == 1]\n",
    "neg_rows = df_all[df_all.LINK_SENTIMENT == -1]\n",
    "df_vol = pd.DataFrame(pos_rows.groupby('bin')['POST_ID'].count().values, columns=['positive'])\n",
    "df_vol['negative'] = neg_rows.groupby('bin')['POST_ID'].count().values"
   ]
  },
  {
   "cell_type": "code",
   "execution_count": 99,
   "metadata": {
    "ExecuteTime": {
     "end_time": "2020-02-28T14:22:50.814607Z",
     "start_time": "2020-02-28T14:22:50.567735Z"
    }
   },
   "outputs": [],
   "source": [
    "filtered_pos = bins.loc[df_all[df_all.LINK_SENTIMENT == 1].index]"
   ]
  },
  {
   "cell_type": "code",
   "execution_count": 114,
   "metadata": {
    "ExecuteTime": {
     "end_time": "2020-02-28T17:48:00.939211Z",
     "start_time": "2020-02-28T17:48:00.422462Z"
    }
   },
   "outputs": [],
   "source": []
  },
  {
   "cell_type": "code",
   "execution_count": 103,
   "metadata": {
    "ExecuteTime": {
     "end_time": "2020-02-28T14:23:44.759743Z",
     "start_time": "2020-02-28T14:23:34.919402Z"
    }
   },
   "outputs": [
    {
     "name": "stdout",
     "output_type": "stream",
     "text": [
      "121 ms ± 1.96 ms per loop (mean ± std. dev. of 7 runs, 10 loops each)\n"
     ]
    }
   ],
   "source": [
    "%timeit df_all[df_all.LINK_SENTIMENT == 1]"
   ]
  },
  {
   "cell_type": "code",
   "execution_count": 102,
   "metadata": {
    "ExecuteTime": {
     "end_time": "2020-02-28T14:23:31.772632Z",
     "start_time": "2020-02-28T14:23:17.992555Z"
    }
   },
   "outputs": [
    {
     "name": "stdout",
     "output_type": "stream",
     "text": [
      "170 ms ± 6.84 ms per loop (mean ± std. dev. of 7 runs, 10 loops each)\n"
     ]
    }
   ],
   "source": [
    "%timeit df_all.loc[pos_rows]"
   ]
  },
  {
   "cell_type": "code",
   "execution_count": 83,
   "metadata": {
    "ExecuteTime": {
     "end_time": "2020-02-28T14:16:48.545254Z",
     "start_time": "2020-02-28T14:16:48.474292Z"
    }
   },
   "outputs": [],
   "source": [
    "df_test = df_all.copy()"
   ]
  },
  {
   "cell_type": "code",
   "execution_count": 94,
   "metadata": {
    "ExecuteTime": {
     "end_time": "2020-02-28T14:18:50.308150Z",
     "start_time": "2020-02-28T14:18:50.272176Z"
    }
   },
   "outputs": [
    {
     "data": {
      "text/html": [
       "<div>\n",
       "<style scoped>\n",
       "    .dataframe tbody tr th:only-of-type {\n",
       "        vertical-align: middle;\n",
       "    }\n",
       "\n",
       "    .dataframe tbody tr th {\n",
       "        vertical-align: top;\n",
       "    }\n",
       "\n",
       "    .dataframe thead th {\n",
       "        text-align: right;\n",
       "    }\n",
       "</style>\n",
       "<table border=\"1\" class=\"dataframe\">\n",
       "  <thead>\n",
       "    <tr style=\"text-align: right;\">\n",
       "      <th></th>\n",
       "      <th>SOURCE_SUBREDDIT</th>\n",
       "      <th>TARGET_SUBREDDIT</th>\n",
       "      <th>POST_ID</th>\n",
       "      <th>TIMESTAMP</th>\n",
       "      <th>LINK_SENTIMENT</th>\n",
       "      <th>PROPERTIES</th>\n",
       "    </tr>\n",
       "  </thead>\n",
       "  <tbody>\n",
       "    <tr>\n",
       "      <th>23</th>\n",
       "      <td>agitation</td>\n",
       "      <td>changemyview</td>\n",
       "      <td>1u5cj7s</td>\n",
       "      <td>2013-12-31 16:20:20</td>\n",
       "      <td>1</td>\n",
       "      <td>102.0,91.0,0.843137254902,0.0,0.0882352941176,...</td>\n",
       "    </tr>\n",
       "    <tr>\n",
       "      <th>23</th>\n",
       "      <td>corejerk</td>\n",
       "      <td>bestof2013</td>\n",
       "      <td>1u5w42s</td>\n",
       "      <td>2014-01-01 04:58:04</td>\n",
       "      <td>1</td>\n",
       "      <td>2735.0,2451.0,0.722120658135,0.0197440585009,0...</td>\n",
       "    </tr>\n",
       "  </tbody>\n",
       "</table>\n",
       "</div>"
      ],
      "text/plain": [
       "   SOURCE_SUBREDDIT TARGET_SUBREDDIT  POST_ID           TIMESTAMP  \\\n",
       "23        agitation     changemyview  1u5cj7s 2013-12-31 16:20:20   \n",
       "23         corejerk       bestof2013  1u5w42s 2014-01-01 04:58:04   \n",
       "\n",
       "    LINK_SENTIMENT                                         PROPERTIES  \n",
       "23               1  102.0,91.0,0.843137254902,0.0,0.0882352941176,...  \n",
       "23               1  2735.0,2451.0,0.722120658135,0.0197440585009,0...  "
      ]
     },
     "execution_count": 94,
     "metadata": {},
     "output_type": "execute_result"
    }
   ],
   "source": [
    "df_all.loc[23]"
   ]
  },
  {
   "cell_type": "code",
   "execution_count": 110,
   "metadata": {
    "ExecuteTime": {
     "end_time": "2020-02-28T15:07:42.138367Z",
     "start_time": "2020-02-28T15:07:41.798563Z"
    }
   },
   "outputs": [
    {
     "data": {
      "text/plain": [
       "(50,)"
      ]
     },
     "execution_count": 110,
     "metadata": {},
     "output_type": "execute_result"
    }
   ],
   "source": [
    "popos_rows.groupby('bin').count()['index'].values"
   ]
  },
  {
   "cell_type": "code",
   "execution_count": 115,
   "metadata": {
    "ExecuteTime": {
     "end_time": "2020-02-28T17:48:04.808522Z",
     "start_time": "2020-02-28T17:48:04.794548Z"
    }
   },
   "outputs": [
    {
     "data": {
      "text/html": [
       "<div>\n",
       "<style scoped>\n",
       "    .dataframe tbody tr th:only-of-type {\n",
       "        vertical-align: middle;\n",
       "    }\n",
       "\n",
       "    .dataframe tbody tr th {\n",
       "        vertical-align: top;\n",
       "    }\n",
       "\n",
       "    .dataframe thead th {\n",
       "        text-align: right;\n",
       "    }\n",
       "</style>\n",
       "<table border=\"1\" class=\"dataframe\">\n",
       "  <thead>\n",
       "    <tr style=\"text-align: right;\">\n",
       "      <th></th>\n",
       "      <th>positive</th>\n",
       "      <th>negative</th>\n",
       "    </tr>\n",
       "  </thead>\n",
       "  <tbody>\n",
       "    <tr>\n",
       "      <th>0</th>\n",
       "      <td>8974</td>\n",
       "      <td>965</td>\n",
       "    </tr>\n",
       "    <tr>\n",
       "      <th>1</th>\n",
       "      <td>9829</td>\n",
       "      <td>1108</td>\n",
       "    </tr>\n",
       "    <tr>\n",
       "      <th>2</th>\n",
       "      <td>10269</td>\n",
       "      <td>1153</td>\n",
       "    </tr>\n",
       "    <tr>\n",
       "      <th>3</th>\n",
       "      <td>10241</td>\n",
       "      <td>1208</td>\n",
       "    </tr>\n",
       "    <tr>\n",
       "      <th>4</th>\n",
       "      <td>10533</td>\n",
       "      <td>1276</td>\n",
       "    </tr>\n",
       "    <tr>\n",
       "      <th>5</th>\n",
       "      <td>11030</td>\n",
       "      <td>1262</td>\n",
       "    </tr>\n",
       "    <tr>\n",
       "      <th>6</th>\n",
       "      <td>10790</td>\n",
       "      <td>1263</td>\n",
       "    </tr>\n",
       "    <tr>\n",
       "      <th>7</th>\n",
       "      <td>10356</td>\n",
       "      <td>1224</td>\n",
       "    </tr>\n",
       "    <tr>\n",
       "      <th>8</th>\n",
       "      <td>11860</td>\n",
       "      <td>1325</td>\n",
       "    </tr>\n",
       "    <tr>\n",
       "      <th>9</th>\n",
       "      <td>11769</td>\n",
       "      <td>1298</td>\n",
       "    </tr>\n",
       "    <tr>\n",
       "      <th>10</th>\n",
       "      <td>11534</td>\n",
       "      <td>1271</td>\n",
       "    </tr>\n",
       "    <tr>\n",
       "      <th>11</th>\n",
       "      <td>11312</td>\n",
       "      <td>1309</td>\n",
       "    </tr>\n",
       "    <tr>\n",
       "      <th>12</th>\n",
       "      <td>12223</td>\n",
       "      <td>1259</td>\n",
       "    </tr>\n",
       "    <tr>\n",
       "      <th>13</th>\n",
       "      <td>11697</td>\n",
       "      <td>1209</td>\n",
       "    </tr>\n",
       "    <tr>\n",
       "      <th>14</th>\n",
       "      <td>11617</td>\n",
       "      <td>1282</td>\n",
       "    </tr>\n",
       "    <tr>\n",
       "      <th>15</th>\n",
       "      <td>12740</td>\n",
       "      <td>1445</td>\n",
       "    </tr>\n",
       "    <tr>\n",
       "      <th>16</th>\n",
       "      <td>13306</td>\n",
       "      <td>1614</td>\n",
       "    </tr>\n",
       "    <tr>\n",
       "      <th>17</th>\n",
       "      <td>14431</td>\n",
       "      <td>1454</td>\n",
       "    </tr>\n",
       "    <tr>\n",
       "      <th>18</th>\n",
       "      <td>14415</td>\n",
       "      <td>1520</td>\n",
       "    </tr>\n",
       "    <tr>\n",
       "      <th>19</th>\n",
       "      <td>14682</td>\n",
       "      <td>1580</td>\n",
       "    </tr>\n",
       "    <tr>\n",
       "      <th>20</th>\n",
       "      <td>14212</td>\n",
       "      <td>1567</td>\n",
       "    </tr>\n",
       "    <tr>\n",
       "      <th>21</th>\n",
       "      <td>15422</td>\n",
       "      <td>1731</td>\n",
       "    </tr>\n",
       "    <tr>\n",
       "      <th>22</th>\n",
       "      <td>16095</td>\n",
       "      <td>1747</td>\n",
       "    </tr>\n",
       "    <tr>\n",
       "      <th>23</th>\n",
       "      <td>16569</td>\n",
       "      <td>1765</td>\n",
       "    </tr>\n",
       "    <tr>\n",
       "      <th>24</th>\n",
       "      <td>16768</td>\n",
       "      <td>1844</td>\n",
       "    </tr>\n",
       "    <tr>\n",
       "      <th>25</th>\n",
       "      <td>14716</td>\n",
       "      <td>1571</td>\n",
       "    </tr>\n",
       "    <tr>\n",
       "      <th>26</th>\n",
       "      <td>15443</td>\n",
       "      <td>1606</td>\n",
       "    </tr>\n",
       "    <tr>\n",
       "      <th>27</th>\n",
       "      <td>15689</td>\n",
       "      <td>1683</td>\n",
       "    </tr>\n",
       "    <tr>\n",
       "      <th>28</th>\n",
       "      <td>15566</td>\n",
       "      <td>1842</td>\n",
       "    </tr>\n",
       "    <tr>\n",
       "      <th>29</th>\n",
       "      <td>14891</td>\n",
       "      <td>1841</td>\n",
       "    </tr>\n",
       "    <tr>\n",
       "      <th>30</th>\n",
       "      <td>16013</td>\n",
       "      <td>1721</td>\n",
       "    </tr>\n",
       "    <tr>\n",
       "      <th>31</th>\n",
       "      <td>16468</td>\n",
       "      <td>1624</td>\n",
       "    </tr>\n",
       "    <tr>\n",
       "      <th>32</th>\n",
       "      <td>16573</td>\n",
       "      <td>1747</td>\n",
       "    </tr>\n",
       "    <tr>\n",
       "      <th>33</th>\n",
       "      <td>16482</td>\n",
       "      <td>1707</td>\n",
       "    </tr>\n",
       "    <tr>\n",
       "      <th>34</th>\n",
       "      <td>15779</td>\n",
       "      <td>1702</td>\n",
       "    </tr>\n",
       "    <tr>\n",
       "      <th>35</th>\n",
       "      <td>15688</td>\n",
       "      <td>1744</td>\n",
       "    </tr>\n",
       "    <tr>\n",
       "      <th>36</th>\n",
       "      <td>17080</td>\n",
       "      <td>1991</td>\n",
       "    </tr>\n",
       "    <tr>\n",
       "      <th>37</th>\n",
       "      <td>15912</td>\n",
       "      <td>1876</td>\n",
       "    </tr>\n",
       "    <tr>\n",
       "      <th>38</th>\n",
       "      <td>16133</td>\n",
       "      <td>1882</td>\n",
       "    </tr>\n",
       "    <tr>\n",
       "      <th>39</th>\n",
       "      <td>16929</td>\n",
       "      <td>2053</td>\n",
       "    </tr>\n",
       "    <tr>\n",
       "      <th>40</th>\n",
       "      <td>16500</td>\n",
       "      <td>1887</td>\n",
       "    </tr>\n",
       "    <tr>\n",
       "      <th>41</th>\n",
       "      <td>16145</td>\n",
       "      <td>1938</td>\n",
       "    </tr>\n",
       "    <tr>\n",
       "      <th>42</th>\n",
       "      <td>17068</td>\n",
       "      <td>1822</td>\n",
       "    </tr>\n",
       "    <tr>\n",
       "      <th>43</th>\n",
       "      <td>16802</td>\n",
       "      <td>1776</td>\n",
       "    </tr>\n",
       "    <tr>\n",
       "      <th>44</th>\n",
       "      <td>17173</td>\n",
       "      <td>1929</td>\n",
       "    </tr>\n",
       "    <tr>\n",
       "      <th>45</th>\n",
       "      <td>17577</td>\n",
       "      <td>1990</td>\n",
       "    </tr>\n",
       "    <tr>\n",
       "      <th>46</th>\n",
       "      <td>19128</td>\n",
       "      <td>1966</td>\n",
       "    </tr>\n",
       "    <tr>\n",
       "      <th>47</th>\n",
       "      <td>18739</td>\n",
       "      <td>1941</td>\n",
       "    </tr>\n",
       "    <tr>\n",
       "      <th>48</th>\n",
       "      <td>19634</td>\n",
       "      <td>2105</td>\n",
       "    </tr>\n",
       "    <tr>\n",
       "      <th>49</th>\n",
       "      <td>19126</td>\n",
       "      <td>2151</td>\n",
       "    </tr>\n",
       "  </tbody>\n",
       "</table>\n",
       "</div>"
      ],
      "text/plain": [
       "    positive  negative\n",
       "0       8974       965\n",
       "1       9829      1108\n",
       "2      10269      1153\n",
       "3      10241      1208\n",
       "4      10533      1276\n",
       "5      11030      1262\n",
       "6      10790      1263\n",
       "7      10356      1224\n",
       "8      11860      1325\n",
       "9      11769      1298\n",
       "10     11534      1271\n",
       "11     11312      1309\n",
       "12     12223      1259\n",
       "13     11697      1209\n",
       "14     11617      1282\n",
       "15     12740      1445\n",
       "16     13306      1614\n",
       "17     14431      1454\n",
       "18     14415      1520\n",
       "19     14682      1580\n",
       "20     14212      1567\n",
       "21     15422      1731\n",
       "22     16095      1747\n",
       "23     16569      1765\n",
       "24     16768      1844\n",
       "25     14716      1571\n",
       "26     15443      1606\n",
       "27     15689      1683\n",
       "28     15566      1842\n",
       "29     14891      1841\n",
       "30     16013      1721\n",
       "31     16468      1624\n",
       "32     16573      1747\n",
       "33     16482      1707\n",
       "34     15779      1702\n",
       "35     15688      1744\n",
       "36     17080      1991\n",
       "37     15912      1876\n",
       "38     16133      1882\n",
       "39     16929      2053\n",
       "40     16500      1887\n",
       "41     16145      1938\n",
       "42     17068      1822\n",
       "43     16802      1776\n",
       "44     17173      1929\n",
       "45     17577      1990\n",
       "46     19128      1966\n",
       "47     18739      1941\n",
       "48     19634      2105\n",
       "49     19126      2151"
      ]
     },
     "execution_count": 115,
     "metadata": {},
     "output_type": "execute_result"
    }
   ],
   "source": [
    "df_vol"
   ]
  },
  {
   "cell_type": "code",
   "execution_count": null,
   "metadata": {},
   "outputs": [],
   "source": []
  }
 ],
 "metadata": {
  "kernelspec": {
   "display_name": "Python 3",
   "language": "python",
   "name": "python3"
  },
  "language_info": {
   "codemirror_mode": {
    "name": "ipython",
    "version": 3
   },
   "file_extension": ".py",
   "mimetype": "text/x-python",
   "name": "python",
   "nbconvert_exporter": "python",
   "pygments_lexer": "ipython3",
   "version": "3.7.3"
  },
  "toc": {
   "base_numbering": 1,
   "nav_menu": {},
   "number_sections": true,
   "sideBar": true,
   "skip_h1_title": false,
   "title_cell": "Table of Contents",
   "title_sidebar": "Contents",
   "toc_cell": false,
   "toc_position": {},
   "toc_section_display": true,
   "toc_window_display": false
  }
 },
 "nbformat": 4,
 "nbformat_minor": 4
}
